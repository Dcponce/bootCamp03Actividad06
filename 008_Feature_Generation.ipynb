{
 "cells": [
  {
   "cell_type": "code",
   "execution_count": 1,
   "id": "821d6659-28e1-439d-b637-c0637f68f0bd",
   "metadata": {},
   "outputs": [],
   "source": [
    "import pandas as pd\n",
    "import numpy as np\n",
    "import os\n",
    "from sklearn.model_selection import train_test_split\n",
    "from sklearn.metrics import roc_curve,  roc_auc_score\n",
    "import warnings\n",
    "warnings.filterwarnings(\"ignore\")"
   ]
  },
  {
   "cell_type": "code",
   "execution_count": 2,
   "id": "cec09150-1451-4f4d-9e35-d778341b784b",
   "metadata": {},
   "outputs": [],
   "source": [
    "# Leer dataset"
   ]
  },
  {
   "cell_type": "code",
   "execution_count": 3,
   "id": "ce4ed755-b75f-42b9-953c-7cd666ba0856",
   "metadata": {},
   "outputs": [],
   "source": [
    "use_cols = [\n",
    "    'age', 'job', 'marital', 'education', 'duration',\n",
    "    'y'\n",
    "]\n",
    "\n",
    "data = pd.read_csv('./data/bank-additional-full.csv', sep=';', usecols= use_cols)"
   ]
  },
  {
   "cell_type": "code",
   "execution_count": 4,
   "id": "2ae8344d-15c3-4c92-85d5-ff6bfe99bf28",
   "metadata": {},
   "outputs": [
    {
     "data": {
      "text/html": [
       "<div>\n",
       "<style scoped>\n",
       "    .dataframe tbody tr th:only-of-type {\n",
       "        vertical-align: middle;\n",
       "    }\n",
       "\n",
       "    .dataframe tbody tr th {\n",
       "        vertical-align: top;\n",
       "    }\n",
       "\n",
       "    .dataframe thead th {\n",
       "        text-align: right;\n",
       "    }\n",
       "</style>\n",
       "<table border=\"1\" class=\"dataframe\">\n",
       "  <thead>\n",
       "    <tr style=\"text-align: right;\">\n",
       "      <th></th>\n",
       "      <th>age</th>\n",
       "      <th>job</th>\n",
       "      <th>marital</th>\n",
       "      <th>education</th>\n",
       "      <th>duration</th>\n",
       "      <th>y</th>\n",
       "    </tr>\n",
       "  </thead>\n",
       "  <tbody>\n",
       "    <tr>\n",
       "      <th>0</th>\n",
       "      <td>56</td>\n",
       "      <td>housemaid</td>\n",
       "      <td>married</td>\n",
       "      <td>basic.4y</td>\n",
       "      <td>261</td>\n",
       "      <td>0</td>\n",
       "    </tr>\n",
       "    <tr>\n",
       "      <th>1</th>\n",
       "      <td>57</td>\n",
       "      <td>services</td>\n",
       "      <td>married</td>\n",
       "      <td>high.school</td>\n",
       "      <td>149</td>\n",
       "      <td>0</td>\n",
       "    </tr>\n",
       "    <tr>\n",
       "      <th>2</th>\n",
       "      <td>37</td>\n",
       "      <td>services</td>\n",
       "      <td>married</td>\n",
       "      <td>high.school</td>\n",
       "      <td>226</td>\n",
       "      <td>0</td>\n",
       "    </tr>\n",
       "  </tbody>\n",
       "</table>\n",
       "</div>"
      ],
      "text/plain": [
       "   age        job  marital    education  duration  y\n",
       "0   56  housemaid  married     basic.4y       261  0\n",
       "1   57   services  married  high.school       149  0\n",
       "2   37   services  married  high.school       226  0"
      ]
     },
     "execution_count": 4,
     "metadata": {},
     "output_type": "execute_result"
    }
   ],
   "source": [
    "data.head(3)"
   ]
  },
  {
   "cell_type": "code",
   "execution_count": 6,
   "id": "098f4068-5523-40cd-bcea-788195263d9a",
   "metadata": {},
   "outputs": [
    {
     "data": {
      "text/plain": [
       "((28831, 6), (12357, 6))"
      ]
     },
     "execution_count": 6,
     "metadata": {},
     "output_type": "execute_result"
    }
   ],
   "source": [
    "X_train, X_test, y_train, y_test = train_test_split(data, data.duration, test_size=0.3,\n",
    "                                                    random_state=0)\n",
    "X_train.shape, X_test.shape"
   ]
  },
  {
   "cell_type": "code",
   "execution_count": 7,
   "id": "55127d71-7e03-4041-bdd8-9dfa7c0f52ee",
   "metadata": {},
   "outputs": [],
   "source": [
    "# Transformación con PolynomialFeatures (Grado 2)"
   ]
  },
  {
   "cell_type": "code",
   "execution_count": 8,
   "id": "74c41da0-e424-4029-90da-8f13bcceb26b",
   "metadata": {},
   "outputs": [
    {
     "name": "stdout",
     "output_type": "stream",
     "text": [
      "   duration   age  duration^2  duration age   age^2\n",
      "0     195.0  37.0     38025.0        7215.0  1369.0\n",
      "1     214.0  54.0     45796.0       11556.0  2916.0\n",
      "2     813.0  49.0    660969.0       39837.0  2401.0\n",
      "3      51.0  30.0      2601.0        1530.0   900.0\n",
      "4     359.0  23.0    128881.0        8257.0   529.0\n",
      "5     334.0  49.0    111556.0       16366.0  2401.0\n"
     ]
    }
   ],
   "source": [
    "from sklearn.preprocessing import PolynomialFeatures\n",
    "pf = PolynomialFeatures(degree=2,include_bias=False).fit(X_train[['duration','age']])\n",
    "tmp = pf.transform(X_train[['duration','age']])\n",
    "X_train_copy = pd.DataFrame(tmp,columns=pf.get_feature_names_out(['duration','age']))\n",
    "print(X_train_copy.head(6))"
   ]
  }
 ],
 "metadata": {
  "kernelspec": {
   "display_name": "Python 3 (ipykernel)",
   "language": "python",
   "name": "python3"
  },
  "language_info": {
   "codemirror_mode": {
    "name": "ipython",
    "version": 3
   },
   "file_extension": ".py",
   "mimetype": "text/x-python",
   "name": "python",
   "nbconvert_exporter": "python",
   "pygments_lexer": "ipython3",
   "version": "3.13.3"
  }
 },
 "nbformat": 4,
 "nbformat_minor": 5
}
