{
 "cells": [
  {
   "cell_type": "code",
   "execution_count": 1,
   "id": "1e51d854-f0ad-4ae1-a9c7-bad4b61381b6",
   "metadata": {},
   "outputs": [],
   "source": [
    "import pandas as pd\n",
    "import numpy as np\n",
    "# import seaborn as sns\n",
    "# import matplotlib.pyplot as plt\n",
    "import os\n",
    "# plt.style.use('seaborn-colorblind')\n",
    "# %matplotlib inline\n",
    "from feature_cleaning import rare_values as ra"
   ]
  },
  {
   "cell_type": "code",
   "execution_count": 2,
   "id": "718faa6d-1019-46bc-a560-82f51dd1b229",
   "metadata": {},
   "outputs": [],
   "source": [
    "#Read the dataset"
   ]
  },
  {
   "cell_type": "code",
   "execution_count": 15,
   "id": "99c7b33a-eb37-4919-aa2e-7a9341522ebc",
   "metadata": {},
   "outputs": [
    {
     "name": "stdout",
     "output_type": "stream",
     "text": [
      "Variable job label proportion:\n",
      "job\n",
      "admin.           0.253035\n",
      "blue-collar      0.224677\n",
      "technician       0.163713\n",
      "services         0.096363\n",
      "management       0.070992\n",
      "retired          0.041760\n",
      "entrepreneur     0.035350\n",
      "self-employed    0.034500\n",
      "housemaid        0.025736\n",
      "unemployed       0.024619\n",
      "student          0.021244\n",
      "unknown          0.008012\n",
      "Name: count, dtype: float64\n",
      "Variable age label proportion:\n",
      "age\n",
      "31    0.047271\n",
      "32    0.044819\n",
      "33    0.044503\n",
      "36    0.043216\n",
      "35    0.042707\n",
      "        ...   \n",
      "89    0.000049\n",
      "91    0.000049\n",
      "94    0.000024\n",
      "87    0.000024\n",
      "95    0.000024\n",
      "Name: count, Length: 78, dtype: float64\n"
     ]
    }
   ],
   "source": [
    "data = pd.read_csv('./data/bank-additional-full.csv',sep=';')\n",
    "for i in ['job','age']:\n",
    "    print('Variable',i,'label proportion:')\n",
    "    print(data[i].value_counts()/len(data))"
   ]
  },
  {
   "cell_type": "code",
   "execution_count": null,
   "id": "041da6b8-22c0-417b-bd69-c292e3772565",
   "metadata": {},
   "outputs": [],
   "source": [
    "#Agrupación en una nueva categoría"
   ]
  },
  {
   "cell_type": "code",
   "execution_count": 16,
   "id": "b85088e7-728d-4cb5-8dad-cf1efc7504e5",
   "metadata": {},
   "outputs": [],
   "source": [
    "enc = ra.GroupingRareValues(cols=['job','age'],threshold=0.01).fit(data)"
   ]
  },
  {
   "cell_type": "code",
   "execution_count": 17,
   "id": "50b556e0-b60f-44a2-a067-428512f0a52b",
   "metadata": {},
   "outputs": [
    {
     "name": "stdout",
     "output_type": "stream",
     "text": [
      "[{'col': 'job', 'mapping': admin.                  admin.\n",
      "blue-collar        blue-collar\n",
      "technician          technician\n",
      "services              services\n",
      "management          management\n",
      "retired                retired\n",
      "entrepreneur      entrepreneur\n",
      "self-employed    self-employed\n",
      "housemaid            housemaid\n",
      "unemployed          unemployed\n",
      "student                student\n",
      "unknown                   rare\n",
      "dtype: object, 'data_type': dtype('O')}, {'col': 'age', 'mapping': 31      31\n",
      "32      32\n",
      "33      33\n",
      "36      36\n",
      "35      35\n",
      "      ... \n",
      "89    rare\n",
      "91    rare\n",
      "94    rare\n",
      "87    rare\n",
      "95    rare\n",
      "Length: 78, dtype: object, 'data_type': dtype('int64')}]\n"
     ]
    }
   ],
   "source": [
    "print(enc.mapping)"
   ]
  },
  {
   "cell_type": "code",
   "execution_count": 18,
   "id": "8e0394ac-57c5-4947-a155-9cce66bf43a8",
   "metadata": {},
   "outputs": [],
   "source": [
    "data2 = enc.transform(data)"
   ]
  },
  {
   "cell_type": "code",
   "execution_count": 20,
   "id": "656d7b34-4130-4f71-99ba-f0962a00fb43",
   "metadata": {},
   "outputs": [
    {
     "name": "stdout",
     "output_type": "stream",
     "text": [
      "age\n",
      "31      1947\n",
      "32      1846\n",
      "33      1833\n",
      "rare    1798\n",
      "36      1780\n",
      "35      1759\n",
      "34      1745\n",
      "30      1714\n",
      "37      1475\n",
      "29      1453\n",
      "39      1432\n",
      "38      1407\n",
      "41      1278\n",
      "40      1161\n",
      "42      1142\n",
      "45      1103\n",
      "43      1055\n",
      "46      1030\n",
      "44      1011\n",
      "28      1001\n",
      "48       979\n",
      "47       928\n",
      "50       875\n",
      "27       851\n",
      "49       839\n",
      "52       779\n",
      "51       754\n",
      "53       733\n",
      "56       704\n",
      "26       698\n",
      "54       684\n",
      "55       648\n",
      "57       646\n",
      "25       598\n",
      "58       576\n",
      "24       463\n",
      "59       463\n",
      "Name: count, dtype: int64\n"
     ]
    }
   ],
   "source": [
    "print(data2.age.value_counts())"
   ]
  },
  {
   "cell_type": "code",
   "execution_count": null,
   "id": "5c0e8731-8ea0-4178-8295-d2fe37400e9b",
   "metadata": {},
   "outputs": [],
   "source": [
    "#Imputación"
   ]
  },
  {
   "cell_type": "code",
   "execution_count": 21,
   "id": "e98e4b59-9e52-413b-84d3-a30b4be0e17a",
   "metadata": {},
   "outputs": [],
   "source": [
    "enc = ra.ModeImputation(cols=['job','age'],threshold=0.01).fit(data)"
   ]
  },
  {
   "cell_type": "code",
   "execution_count": 22,
   "id": "650ea4e5-b2c3-442f-b2d2-30bc7d89e178",
   "metadata": {},
   "outputs": [
    {
     "name": "stdout",
     "output_type": "stream",
     "text": [
      "[{'col': 'job', 'mapping': admin.                  admin.\n",
      "blue-collar        blue-collar\n",
      "technician          technician\n",
      "services              services\n",
      "management          management\n",
      "retired                retired\n",
      "entrepreneur      entrepreneur\n",
      "self-employed    self-employed\n",
      "housemaid            housemaid\n",
      "unemployed          unemployed\n",
      "student                student\n",
      "unknown                 admin.\n",
      "dtype: object, 'data_type': dtype('O')}, {'col': 'age', 'mapping': 31    31\n",
      "32    32\n",
      "33    33\n",
      "36    36\n",
      "35    35\n",
      "      ..\n",
      "89    31\n",
      "91    31\n",
      "94    31\n",
      "87    31\n",
      "95    31\n",
      "Length: 78, dtype: int64, 'data_type': dtype('int64')}]\n"
     ]
    }
   ],
   "source": [
    "print(enc.mapping)"
   ]
  },
  {
   "cell_type": "code",
   "execution_count": 23,
   "id": "869ad693-cfb2-4aca-81a4-05eca07c8a18",
   "metadata": {},
   "outputs": [],
   "source": [
    "data3 = enc.transform(data)"
   ]
  },
  {
   "cell_type": "code",
   "execution_count": 24,
   "id": "052ab4f4-ad21-4cab-809e-d13e42694791",
   "metadata": {},
   "outputs": [
    {
     "name": "stdout",
     "output_type": "stream",
     "text": [
      "age\n",
      "31    3745\n",
      "32    1846\n",
      "33    1833\n",
      "36    1780\n",
      "35    1759\n",
      "34    1745\n",
      "30    1714\n",
      "37    1475\n",
      "29    1453\n",
      "39    1432\n",
      "38    1407\n",
      "41    1278\n",
      "40    1161\n",
      "42    1142\n",
      "45    1103\n",
      "43    1055\n",
      "46    1030\n",
      "44    1011\n",
      "28    1001\n",
      "48     979\n",
      "47     928\n",
      "50     875\n",
      "27     851\n",
      "49     839\n",
      "52     779\n",
      "51     754\n",
      "53     733\n",
      "56     704\n",
      "26     698\n",
      "54     684\n",
      "55     648\n",
      "57     646\n",
      "25     598\n",
      "58     576\n",
      "24     463\n",
      "59     463\n",
      "Name: count, dtype: int64\n"
     ]
    }
   ],
   "source": [
    "print(data3.age.value_counts())"
   ]
  },
  {
   "cell_type": "code",
   "execution_count": null,
   "id": "36341e5e-5517-4bd5-a0ee-c6dd97d59685",
   "metadata": {},
   "outputs": [],
   "source": []
  }
 ],
 "metadata": {
  "kernelspec": {
   "display_name": "Python 3 (ipykernel)",
   "language": "python",
   "name": "python3"
  },
  "language_info": {
   "codemirror_mode": {
    "name": "ipython",
    "version": 3
   },
   "file_extension": ".py",
   "mimetype": "text/x-python",
   "name": "python",
   "nbconvert_exporter": "python",
   "pygments_lexer": "ipython3",
   "version": "3.13.3"
  }
 },
 "nbformat": 4,
 "nbformat_minor": 5
}
