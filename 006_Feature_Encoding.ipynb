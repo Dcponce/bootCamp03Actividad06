{
 "cells": [
  {
   "cell_type": "code",
   "execution_count": null,
   "id": "83b8d327-baeb-4d0c-83e5-337b11aed0b4",
   "metadata": {},
   "outputs": [],
   "source": []
  }
 ],
 "metadata": {
  "kernelspec": {
   "display_name": "",
   "name": ""
  },
  "language_info": {
   "name": ""
  }
 },
 "nbformat": 4,
 "nbformat_minor": 5
}
