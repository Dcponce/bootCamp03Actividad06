{
 "cells": [
  {
   "cell_type": "code",
   "execution_count": 2,
   "id": "2a195c4b-8fe4-45a3-ae5a-b70c1f1c8d04",
   "metadata": {},
   "outputs": [],
   "source": [
    "import pandas as pd\n",
    "import numpy as np\n",
    "import os\n",
    "from sklearn.model_selection import train_test_split"
   ]
  },
  {
   "cell_type": "code",
   "execution_count": null,
   "id": "f270a5a0-1254-49b4-9496-bd35eff329cd",
   "metadata": {},
   "outputs": [],
   "source": [
    "#leer dataset"
   ]
  },
  {
   "cell_type": "code",
   "execution_count": 3,
   "id": "92d34b0d-8f67-4bf8-89fe-b47440aaa5cd",
   "metadata": {},
   "outputs": [],
   "source": [
    "data = pd.read_csv('./data/bank-additional-full.csv', sep=';')"
   ]
  },
  {
   "cell_type": "code",
   "execution_count": 4,
   "id": "a6125bfe-298d-4318-8e6e-4fef7cf758f6",
   "metadata": {},
   "outputs": [
    {
     "data": {
      "text/html": [
       "<div>\n",
       "<style scoped>\n",
       "    .dataframe tbody tr th:only-of-type {\n",
       "        vertical-align: middle;\n",
       "    }\n",
       "\n",
       "    .dataframe tbody tr th {\n",
       "        vertical-align: top;\n",
       "    }\n",
       "\n",
       "    .dataframe thead th {\n",
       "        text-align: right;\n",
       "    }\n",
       "</style>\n",
       "<table border=\"1\" class=\"dataframe\">\n",
       "  <thead>\n",
       "    <tr style=\"text-align: right;\">\n",
       "      <th></th>\n",
       "      <th>age</th>\n",
       "      <th>job</th>\n",
       "      <th>marital</th>\n",
       "      <th>education</th>\n",
       "      <th>default</th>\n",
       "      <th>housing</th>\n",
       "      <th>loan</th>\n",
       "      <th>contact</th>\n",
       "      <th>month</th>\n",
       "      <th>day_of_week</th>\n",
       "      <th>...</th>\n",
       "      <th>campaign</th>\n",
       "      <th>pdays</th>\n",
       "      <th>previous</th>\n",
       "      <th>poutcome</th>\n",
       "      <th>emp.var.rate</th>\n",
       "      <th>cons.price.idx</th>\n",
       "      <th>cons.conf.idx</th>\n",
       "      <th>euribor3m</th>\n",
       "      <th>nr.employed</th>\n",
       "      <th>y</th>\n",
       "    </tr>\n",
       "  </thead>\n",
       "  <tbody>\n",
       "    <tr>\n",
       "      <th>0</th>\n",
       "      <td>56</td>\n",
       "      <td>housemaid</td>\n",
       "      <td>married</td>\n",
       "      <td>basic.4y</td>\n",
       "      <td>no</td>\n",
       "      <td>no</td>\n",
       "      <td>no</td>\n",
       "      <td>telephone</td>\n",
       "      <td>may</td>\n",
       "      <td>mon</td>\n",
       "      <td>...</td>\n",
       "      <td>1</td>\n",
       "      <td>999</td>\n",
       "      <td>0</td>\n",
       "      <td>nonexistent</td>\n",
       "      <td>1.1</td>\n",
       "      <td>93.994</td>\n",
       "      <td>-36.4</td>\n",
       "      <td>4.857</td>\n",
       "      <td>5191.0</td>\n",
       "      <td>no</td>\n",
       "    </tr>\n",
       "    <tr>\n",
       "      <th>1</th>\n",
       "      <td>57</td>\n",
       "      <td>services</td>\n",
       "      <td>married</td>\n",
       "      <td>high.school</td>\n",
       "      <td>unknown</td>\n",
       "      <td>no</td>\n",
       "      <td>no</td>\n",
       "      <td>telephone</td>\n",
       "      <td>may</td>\n",
       "      <td>mon</td>\n",
       "      <td>...</td>\n",
       "      <td>1</td>\n",
       "      <td>999</td>\n",
       "      <td>0</td>\n",
       "      <td>nonexistent</td>\n",
       "      <td>1.1</td>\n",
       "      <td>93.994</td>\n",
       "      <td>-36.4</td>\n",
       "      <td>4.857</td>\n",
       "      <td>5191.0</td>\n",
       "      <td>no</td>\n",
       "    </tr>\n",
       "    <tr>\n",
       "      <th>2</th>\n",
       "      <td>37</td>\n",
       "      <td>services</td>\n",
       "      <td>married</td>\n",
       "      <td>high.school</td>\n",
       "      <td>no</td>\n",
       "      <td>yes</td>\n",
       "      <td>no</td>\n",
       "      <td>telephone</td>\n",
       "      <td>may</td>\n",
       "      <td>mon</td>\n",
       "      <td>...</td>\n",
       "      <td>1</td>\n",
       "      <td>999</td>\n",
       "      <td>0</td>\n",
       "      <td>nonexistent</td>\n",
       "      <td>1.1</td>\n",
       "      <td>93.994</td>\n",
       "      <td>-36.4</td>\n",
       "      <td>4.857</td>\n",
       "      <td>5191.0</td>\n",
       "      <td>no</td>\n",
       "    </tr>\n",
       "  </tbody>\n",
       "</table>\n",
       "<p>3 rows × 21 columns</p>\n",
       "</div>"
      ],
      "text/plain": [
       "   age        job  marital    education  default housing loan    contact  \\\n",
       "0   56  housemaid  married     basic.4y       no      no   no  telephone   \n",
       "1   57   services  married  high.school  unknown      no   no  telephone   \n",
       "2   37   services  married  high.school       no     yes   no  telephone   \n",
       "\n",
       "  month day_of_week  ...  campaign  pdays  previous     poutcome emp.var.rate  \\\n",
       "0   may         mon  ...         1    999         0  nonexistent          1.1   \n",
       "1   may         mon  ...         1    999         0  nonexistent          1.1   \n",
       "2   may         mon  ...         1    999         0  nonexistent          1.1   \n",
       "\n",
       "   cons.price.idx  cons.conf.idx  euribor3m  nr.employed   y  \n",
       "0          93.994          -36.4      4.857       5191.0  no  \n",
       "1          93.994          -36.4      4.857       5191.0  no  \n",
       "2          93.994          -36.4      4.857       5191.0  no  \n",
       "\n",
       "[3 rows x 21 columns]"
      ]
     },
     "execution_count": 4,
     "metadata": {},
     "output_type": "execute_result"
    }
   ],
   "source": [
    "data.head(3)"
   ]
  },
  {
   "cell_type": "code",
   "execution_count": 5,
   "id": "915e8d30-04ee-4fd8-9d60-e84909423a8b",
   "metadata": {},
   "outputs": [
    {
     "data": {
      "text/plain": [
       "((28831, 21), (12357, 21))"
      ]
     },
     "execution_count": 5,
     "metadata": {},
     "output_type": "execute_result"
    }
   ],
   "source": [
    "X_train, X_test, y_train, y_test = train_test_split(data, data.y, test_size=0.3,\n",
    "                                                    random_state=0)\n",
    "X_train.shape, X_test.shape"
   ]
  },
  {
   "cell_type": "code",
   "execution_count": 6,
   "id": "6d9b071a-124a-47a8-8033-9e5f25024e08",
   "metadata": {},
   "outputs": [],
   "source": [
    "# Normalización - Estandarización (escala de puntuación Z)"
   ]
  },
  {
   "cell_type": "code",
   "execution_count": 7,
   "id": "0789b50b-b23a-46c2-a709-eb4fc0b249ea",
   "metadata": {},
   "outputs": [
    {
     "name": "stdout",
     "output_type": "stream",
     "text": [
      "       age           job   marital          education  default housing loan  \\\n",
      "31880   37    management   married  university.degree  unknown      no  yes   \n",
      "38177   54    management  divorced  university.degree  unknown     yes   no   \n",
      "2459    49   blue-collar   married           basic.9y  unknown      no   no   \n",
      "756     30      services   married  university.degree       no     yes   no   \n",
      "11275   23   blue-collar    single           basic.9y       no      no   no   \n",
      "29677   49  entrepreneur   married  university.degree       no     yes   no   \n",
      "\n",
      "         contact month day_of_week  ...  pdays  previous     poutcome  \\\n",
      "31880   cellular   may         thu  ...    999         0  nonexistent   \n",
      "38177   cellular   oct         thu  ...    999         0  nonexistent   \n",
      "2459   telephone   may         tue  ...    999         0  nonexistent   \n",
      "756    telephone   may         wed  ...    999         0  nonexistent   \n",
      "11275  telephone   jun         thu  ...    999         0  nonexistent   \n",
      "29677   cellular   apr         mon  ...    999         0  nonexistent   \n",
      "\n",
      "       emp.var.rate cons.price.idx  cons.conf.idx  euribor3m  nr.employed   y  \\\n",
      "31880          -1.8         92.893          -46.2      1.327       5099.1  no   \n",
      "38177          -3.4         92.431          -26.9      0.754       5017.5  no   \n",
      "2459            1.1         93.994          -36.4      4.856       5191.0  no   \n",
      "756             1.1         93.994          -36.4      4.856       5191.0  no   \n",
      "11275           1.4         94.465          -41.8      4.961       5228.1  no   \n",
      "29677          -1.8         93.075          -47.1      1.405       5099.1  no   \n",
      "\n",
      "       duration_zscore  \n",
      "31880        -0.243992  \n",
      "38177        -0.170508  \n",
      "2459          2.146168  \n",
      "756          -0.800923  \n",
      "11275         0.390290  \n",
      "29677         0.293601  \n",
      "\n",
      "[6 rows x 22 columns]\n"
     ]
    }
   ],
   "source": [
    "from sklearn.preprocessing import StandardScaler\n",
    "ss = StandardScaler().fit(X_train[['duration']])\n",
    "X_train_copy = X_train.copy(deep=True)\n",
    "X_train_copy['duration_zscore'] = ss.transform(X_train_copy[['duration']])\n",
    "print(X_train_copy.head(6))"
   ]
  },
  {
   "cell_type": "code",
   "execution_count": 8,
   "id": "369c90bb-5795-4263-a7a9-145ad1aae67d",
   "metadata": {},
   "outputs": [
    {
     "name": "stdout",
     "output_type": "stream",
     "text": [
      "7.837140230020182e-17\n",
      "1.0000173428950507\n"
     ]
    }
   ],
   "source": [
    "print(X_train_copy['duration_zscore'].mean())\n",
    "print(X_train_copy['duration_zscore'].std())"
   ]
  },
  {
   "cell_type": "code",
   "execution_count": 9,
   "id": "0ebe2b2e-e223-4c5c-af0e-4d65f8fd7350",
   "metadata": {},
   "outputs": [],
   "source": [
    "# Escala mín.-máx."
   ]
  },
  {
   "cell_type": "code",
   "execution_count": 11,
   "id": "62e499e4-412b-4813-bf7e-6065ac8d5d14",
   "metadata": {},
   "outputs": [
    {
     "name": "stdout",
     "output_type": "stream",
     "text": [
      "       age           job   marital          education  default housing loan  \\\n",
      "31880   37    management   married  university.degree  unknown      no  yes   \n",
      "38177   54    management  divorced  university.degree  unknown     yes   no   \n",
      "2459    49   blue-collar   married           basic.9y  unknown      no   no   \n",
      "756     30      services   married  university.degree       no     yes   no   \n",
      "11275   23   blue-collar    single           basic.9y       no      no   no   \n",
      "29677   49  entrepreneur   married  university.degree       no     yes   no   \n",
      "\n",
      "         contact month day_of_week  ...  pdays  previous     poutcome  \\\n",
      "31880   cellular   may         thu  ...    999         0  nonexistent   \n",
      "38177   cellular   oct         thu  ...    999         0  nonexistent   \n",
      "2459   telephone   may         tue  ...    999         0  nonexistent   \n",
      "756    telephone   may         wed  ...    999         0  nonexistent   \n",
      "11275  telephone   jun         thu  ...    999         0  nonexistent   \n",
      "29677   cellular   apr         mon  ...    999         0  nonexistent   \n",
      "\n",
      "       emp.var.rate cons.price.idx  cons.conf.idx  euribor3m  nr.employed   y  \\\n",
      "31880          -1.8         92.893          -46.2      1.327       5099.1  no   \n",
      "38177          -3.4         92.431          -26.9      0.754       5017.5  no   \n",
      "2459            1.1         93.994          -36.4      4.856       5191.0  no   \n",
      "756             1.1         93.994          -36.4      4.856       5191.0  no   \n",
      "11275           1.4         94.465          -41.8      4.961       5228.1  no   \n",
      "29677          -1.8         93.075          -47.1      1.405       5099.1  no   \n",
      "\n",
      "       duration_minmax  \n",
      "31880         0.046440  \n",
      "38177         0.050965  \n",
      "2459          0.193618  \n",
      "756           0.012146  \n",
      "11275         0.085497  \n",
      "29677         0.079543  \n",
      "\n",
      "[6 rows x 22 columns]\n"
     ]
    }
   ],
   "source": [
    "from sklearn.preprocessing import MinMaxScaler\n",
    "mms = MinMaxScaler().fit(X_train[['duration']])\n",
    "X_train_copy = X_train.copy(deep=True)\n",
    "X_train_copy['duration_minmax'] = mms.transform(X_train_copy[['duration']])\n",
    "print(X_train_copy.head(6))"
   ]
  },
  {
   "cell_type": "code",
   "execution_count": 12,
   "id": "f4910bb0-6e9b-4cc9-b9ae-b3da166f1fd2",
   "metadata": {},
   "outputs": [
    {
     "name": "stdout",
     "output_type": "stream",
     "text": [
      "1.0\n",
      "0.0\n"
     ]
    }
   ],
   "source": [
    "print(X_train_copy['duration_minmax'].max())\n",
    "print(X_train_copy['duration_minmax'].min())"
   ]
  },
  {
   "cell_type": "code",
   "execution_count": 13,
   "id": "996900c0-25c2-460a-946e-162f269667fd",
   "metadata": {},
   "outputs": [],
   "source": [
    "# Escalamiento robusto"
   ]
  },
  {
   "cell_type": "code",
   "execution_count": 14,
   "id": "dc5c23a8-f982-4dd7-a542-9671c1e65235",
   "metadata": {},
   "outputs": [
    {
     "name": "stdout",
     "output_type": "stream",
     "text": [
      "       age           job   marital          education  default housing loan  \\\n",
      "31880   37    management   married  university.degree  unknown      no  yes   \n",
      "38177   54    management  divorced  university.degree  unknown     yes   no   \n",
      "2459    49   blue-collar   married           basic.9y  unknown      no   no   \n",
      "756     30      services   married  university.degree       no     yes   no   \n",
      "11275   23   blue-collar    single           basic.9y       no      no   no   \n",
      "29677   49  entrepreneur   married  university.degree       no     yes   no   \n",
      "\n",
      "         contact month day_of_week  ...  pdays  previous     poutcome  \\\n",
      "31880   cellular   may         thu  ...    999         0  nonexistent   \n",
      "38177   cellular   oct         thu  ...    999         0  nonexistent   \n",
      "2459   telephone   may         tue  ...    999         0  nonexistent   \n",
      "756    telephone   may         wed  ...    999         0  nonexistent   \n",
      "11275  telephone   jun         thu  ...    999         0  nonexistent   \n",
      "29677   cellular   apr         mon  ...    999         0  nonexistent   \n",
      "\n",
      "       emp.var.rate cons.price.idx  cons.conf.idx  euribor3m  nr.employed   y  \\\n",
      "31880          -1.8         92.893          -46.2      1.327       5099.1  no   \n",
      "38177          -3.4         92.431          -26.9      0.754       5017.5  no   \n",
      "2459            1.1         93.994          -36.4      4.856       5191.0  no   \n",
      "756             1.1         93.994          -36.4      4.856       5191.0  no   \n",
      "11275           1.4         94.465          -41.8      4.961       5228.1  no   \n",
      "29677          -1.8         93.075          -47.1      1.405       5099.1  no   \n",
      "\n",
      "       duration_robust  \n",
      "31880         0.074074  \n",
      "38177         0.162037  \n",
      "2459          2.935185  \n",
      "756          -0.592593  \n",
      "11275         0.833333  \n",
      "29677         0.717593  \n",
      "\n",
      "[6 rows x 22 columns]\n"
     ]
    }
   ],
   "source": [
    "from sklearn.preprocessing import RobustScaler\n",
    "rs = RobustScaler().fit(X_train[['duration']])\n",
    "X_train_copy = X_train.copy(deep=True)\n",
    "X_train_copy['duration_robust'] = rs.transform(X_train_copy[['duration']])\n",
    "print(X_train_copy.head(6))"
   ]
  },
  {
   "cell_type": "code",
   "execution_count": null,
   "id": "8bf6fcea-7f2a-43c4-9536-ef5c7bbdd0cd",
   "metadata": {},
   "outputs": [],
   "source": []
  }
 ],
 "metadata": {
  "kernelspec": {
   "display_name": "Python 3 (ipykernel)",
   "language": "python",
   "name": "python3"
  },
  "language_info": {
   "codemirror_mode": {
    "name": "ipython",
    "version": 3
   },
   "file_extension": ".py",
   "mimetype": "text/x-python",
   "name": "python",
   "nbconvert_exporter": "python",
   "pygments_lexer": "ipython3",
   "version": "3.13.3"
  }
 },
 "nbformat": 4,
 "nbformat_minor": 5
}
